{
  "nbformat": 4,
  "nbformat_minor": 0,
  "metadata": {
    "colab": {
      "provenance": []
    },
    "kernelspec": {
      "name": "python3",
      "display_name": "Python 3"
    },
    "language_info": {
      "name": "python"
    }
  },
  "cells": [
    {
      "cell_type": "markdown",
      "source": [
        "# Classification of Refactoring Types"
      ],
      "metadata": {
        "id": "3UKZu-MRrxaL"
      }
    },
    {
      "cell_type": "markdown",
      "source": [
        "Import the required packages for extracting and pre-processing of data"
      ],
      "metadata": {
        "id": "K1GiMBOTr3rO"
      }
    },
    {
      "cell_type": "code",
      "execution_count": null,
      "metadata": {
        "id": "Xape8TUyk7MK",
        "colab": {
          "base_uri": "https://localhost:8080/"
        },
        "outputId": "b0e33820-d515-4d29-f25e-4f3bfeba9a64"
      },
      "outputs": [
        {
          "output_type": "stream",
          "name": "stderr",
          "text": [
            "[nltk_data] Downloading package stopwords to /root/nltk_data...\n",
            "[nltk_data]   Package stopwords is already up-to-date!\n",
            "[nltk_data] Downloading package punkt to /root/nltk_data...\n",
            "[nltk_data]   Package punkt is already up-to-date!\n",
            "[nltk_data] Downloading package omw-1.4 to /root/nltk_data...\n",
            "[nltk_data]   Package omw-1.4 is already up-to-date!\n",
            "[nltk_data] Downloading package wordnet to /root/nltk_data...\n",
            "[nltk_data]   Package wordnet is already up-to-date!\n"
          ]
        }
      ],
      "source": [
        "# import all the required packages\n",
        "import pandas as pd\n",
        "import seaborn as sns\n",
        "from matplotlib import pyplot as plt\n",
        "from sklearn.feature_extraction.text import TfidfVectorizer\n",
        "from sklearn.model_selection import train_test_split, cross_validate, KFold, cross_val_score\n",
        "from sklearn.linear_model import LogisticRegression\n",
        "from sklearn.multiclass import OneVsRestClassifier\n",
        "from sklearn.svm import SVC\n",
        "from sklearn.ensemble import RandomForestClassifier, GradientBoostingClassifier\n",
        "from sklearn.metrics import classification_report\n",
        "import nltk\n",
        "nltk.download('stopwords')\n",
        "nltk.download('punkt')\n",
        "nltk.download('omw-1.4')\n",
        "nltk.download('wordnet')\n",
        "from nltk.corpus import stopwords\n",
        "from nltk.tokenize import word_tokenize\n",
        "from nltk.stem.wordnet import WordNetLemmatizer\n",
        "\n",
        "%matplotlib inline"
      ]
    },
    {
      "cell_type": "markdown",
      "source": [
        "Read the data from the message csv file "
      ],
      "metadata": {
        "id": "GQSK3pNTsAhX"
      }
    },
    {
      "cell_type": "code",
      "source": [
        "# Import the data from the csv file\n",
        "df_message = pd.read_csv('/content/Message.csv')"
      ],
      "metadata": {
        "id": "CQw70LwClQks"
      },
      "execution_count": null,
      "outputs": []
    },
    {
      "cell_type": "code",
      "source": [
        "df_message.head()"
      ],
      "metadata": {
        "colab": {
          "base_uri": "https://localhost:8080/",
          "height": 206
        },
        "id": "td_y8VDjl8Ve",
        "outputId": "201f5259-d6d2-44ae-8dda-c5c9ca84e9ea"
      },
      "execution_count": null,
      "outputs": [
        {
          "output_type": "execute_result",
          "data": {
            "text/plain": [
              "                                      Commit message    Class\n",
              "0                                    extract method.  extract\n",
              "1  Minor tweaks following review extraction of me...  extract\n",
              "2  extract some stuff to a method[git p4: depot p...  extract\n",
              "3             extract some methods in DoiServiceImpl  extract\n",
              "4  refactoring getMenuSpace in Navigation: extrac...  extract"
            ],
            "text/html": [
              "\n",
              "  <div id=\"df-7494cb04-14b1-4951-b0b3-85e8df574732\">\n",
              "    <div class=\"colab-df-container\">\n",
              "      <div>\n",
              "<style scoped>\n",
              "    .dataframe tbody tr th:only-of-type {\n",
              "        vertical-align: middle;\n",
              "    }\n",
              "\n",
              "    .dataframe tbody tr th {\n",
              "        vertical-align: top;\n",
              "    }\n",
              "\n",
              "    .dataframe thead th {\n",
              "        text-align: right;\n",
              "    }\n",
              "</style>\n",
              "<table border=\"1\" class=\"dataframe\">\n",
              "  <thead>\n",
              "    <tr style=\"text-align: right;\">\n",
              "      <th></th>\n",
              "      <th>Commit message</th>\n",
              "      <th>Class</th>\n",
              "    </tr>\n",
              "  </thead>\n",
              "  <tbody>\n",
              "    <tr>\n",
              "      <th>0</th>\n",
              "      <td>extract method.</td>\n",
              "      <td>extract</td>\n",
              "    </tr>\n",
              "    <tr>\n",
              "      <th>1</th>\n",
              "      <td>Minor tweaks following review extraction of me...</td>\n",
              "      <td>extract</td>\n",
              "    </tr>\n",
              "    <tr>\n",
              "      <th>2</th>\n",
              "      <td>extract some stuff to a method[git p4: depot p...</td>\n",
              "      <td>extract</td>\n",
              "    </tr>\n",
              "    <tr>\n",
              "      <th>3</th>\n",
              "      <td>extract some methods in DoiServiceImpl</td>\n",
              "      <td>extract</td>\n",
              "    </tr>\n",
              "    <tr>\n",
              "      <th>4</th>\n",
              "      <td>refactoring getMenuSpace in Navigation: extrac...</td>\n",
              "      <td>extract</td>\n",
              "    </tr>\n",
              "  </tbody>\n",
              "</table>\n",
              "</div>\n",
              "      <button class=\"colab-df-convert\" onclick=\"convertToInteractive('df-7494cb04-14b1-4951-b0b3-85e8df574732')\"\n",
              "              title=\"Convert this dataframe to an interactive table.\"\n",
              "              style=\"display:none;\">\n",
              "        \n",
              "  <svg xmlns=\"http://www.w3.org/2000/svg\" height=\"24px\"viewBox=\"0 0 24 24\"\n",
              "       width=\"24px\">\n",
              "    <path d=\"M0 0h24v24H0V0z\" fill=\"none\"/>\n",
              "    <path d=\"M18.56 5.44l.94 2.06.94-2.06 2.06-.94-2.06-.94-.94-2.06-.94 2.06-2.06.94zm-11 1L8.5 8.5l.94-2.06 2.06-.94-2.06-.94L8.5 2.5l-.94 2.06-2.06.94zm10 10l.94 2.06.94-2.06 2.06-.94-2.06-.94-.94-2.06-.94 2.06-2.06.94z\"/><path d=\"M17.41 7.96l-1.37-1.37c-.4-.4-.92-.59-1.43-.59-.52 0-1.04.2-1.43.59L10.3 9.45l-7.72 7.72c-.78.78-.78 2.05 0 2.83L4 21.41c.39.39.9.59 1.41.59.51 0 1.02-.2 1.41-.59l7.78-7.78 2.81-2.81c.8-.78.8-2.07 0-2.86zM5.41 20L4 18.59l7.72-7.72 1.47 1.35L5.41 20z\"/>\n",
              "  </svg>\n",
              "      </button>\n",
              "      \n",
              "  <style>\n",
              "    .colab-df-container {\n",
              "      display:flex;\n",
              "      flex-wrap:wrap;\n",
              "      gap: 12px;\n",
              "    }\n",
              "\n",
              "    .colab-df-convert {\n",
              "      background-color: #E8F0FE;\n",
              "      border: none;\n",
              "      border-radius: 50%;\n",
              "      cursor: pointer;\n",
              "      display: none;\n",
              "      fill: #1967D2;\n",
              "      height: 32px;\n",
              "      padding: 0 0 0 0;\n",
              "      width: 32px;\n",
              "    }\n",
              "\n",
              "    .colab-df-convert:hover {\n",
              "      background-color: #E2EBFA;\n",
              "      box-shadow: 0px 1px 2px rgba(60, 64, 67, 0.3), 0px 1px 3px 1px rgba(60, 64, 67, 0.15);\n",
              "      fill: #174EA6;\n",
              "    }\n",
              "\n",
              "    [theme=dark] .colab-df-convert {\n",
              "      background-color: #3B4455;\n",
              "      fill: #D2E3FC;\n",
              "    }\n",
              "\n",
              "    [theme=dark] .colab-df-convert:hover {\n",
              "      background-color: #434B5C;\n",
              "      box-shadow: 0px 1px 3px 1px rgba(0, 0, 0, 0.15);\n",
              "      filter: drop-shadow(0px 1px 2px rgba(0, 0, 0, 0.3));\n",
              "      fill: #FFFFFF;\n",
              "    }\n",
              "  </style>\n",
              "\n",
              "      <script>\n",
              "        const buttonEl =\n",
              "          document.querySelector('#df-7494cb04-14b1-4951-b0b3-85e8df574732 button.colab-df-convert');\n",
              "        buttonEl.style.display =\n",
              "          google.colab.kernel.accessAllowed ? 'block' : 'none';\n",
              "\n",
              "        async function convertToInteractive(key) {\n",
              "          const element = document.querySelector('#df-7494cb04-14b1-4951-b0b3-85e8df574732');\n",
              "          const dataTable =\n",
              "            await google.colab.kernel.invokeFunction('convertToInteractive',\n",
              "                                                     [key], {});\n",
              "          if (!dataTable) return;\n",
              "\n",
              "          const docLinkHtml = 'Like what you see? Visit the ' +\n",
              "            '<a target=\"_blank\" href=https://colab.research.google.com/notebooks/data_table.ipynb>data table notebook</a>'\n",
              "            + ' to learn more about interactive tables.';\n",
              "          element.innerHTML = '';\n",
              "          dataTable['output_type'] = 'display_data';\n",
              "          await google.colab.output.renderOutput(dataTable, element);\n",
              "          const docLink = document.createElement('div');\n",
              "          docLink.innerHTML = docLinkHtml;\n",
              "          element.appendChild(docLink);\n",
              "        }\n",
              "      </script>\n",
              "    </div>\n",
              "  </div>\n",
              "  "
            ]
          },
          "metadata": {},
          "execution_count": 5
        }
      ]
    },
    {
      "cell_type": "code",
      "source": [
        "df_message.info()"
      ],
      "metadata": {
        "colab": {
          "base_uri": "https://localhost:8080/"
        },
        "id": "W_h5Led0mjTv",
        "outputId": "5b154d6b-cfa9-4d5c-a33d-19cf9c466035"
      },
      "execution_count": null,
      "outputs": [
        {
          "output_type": "stream",
          "name": "stdout",
          "text": [
            "<class 'pandas.core.frame.DataFrame'>\n",
            "RangeIndex: 5004 entries, 0 to 5003\n",
            "Data columns (total 2 columns):\n",
            " #   Column          Non-Null Count  Dtype \n",
            "---  ------          --------------  ----- \n",
            " 0   Commit message  5004 non-null   object\n",
            " 1   Class           5004 non-null   object\n",
            "dtypes: object(2)\n",
            "memory usage: 78.3+ KB\n"
          ]
        }
      ]
    },
    {
      "cell_type": "code",
      "source": [
        "df_message.Class.unique()"
      ],
      "metadata": {
        "colab": {
          "base_uri": "https://localhost:8080/"
        },
        "id": "_d0R5IL0mDZi",
        "outputId": "6a6b3ddd-2b20-4d29-e360-ea6e373d948f"
      },
      "execution_count": null,
      "outputs": [
        {
          "output_type": "execute_result",
          "data": {
            "text/plain": [
              "array(['extract', 'move', 'inline', 'pull up', 'push down', 'rename'],\n",
              "      dtype=object)"
            ]
          },
          "metadata": {},
          "execution_count": 7
        }
      ]
    },
    {
      "cell_type": "markdown",
      "source": [
        "# Pre-Processing"
      ],
      "metadata": {
        "id": "yQAMMrYnDnV6"
      }
    },
    {
      "cell_type": "markdown",
      "source": [
        "Convert the case of the Commit Message to lower case."
      ],
      "metadata": {
        "id": "ZQnM_75V6VN2"
      }
    },
    {
      "cell_type": "code",
      "source": [
        "df_message['Commit message'] = df_message['Commit message'].str.lower()"
      ],
      "metadata": {
        "id": "wLAofmC_5cfF"
      },
      "execution_count": null,
      "outputs": []
    },
    {
      "cell_type": "markdown",
      "source": [
        "Tokenize each word in a sentence using NLTK after the stop word removal. "
      ],
      "metadata": {
        "id": "sL2wN-pzsbUP"
      }
    },
    {
      "cell_type": "code",
      "source": [
        "# Function Definition for tokenization process\n",
        "def tokenize(column):\n",
        "  \"\"\"\n",
        "    Function Definition to tokenize the input records and removing the stop words.\n",
        "\n",
        "    @param column: Record to be tokenized.\n",
        "    @type column: Series\n",
        "\n",
        "    @return: list of tokens\n",
        "  \"\"\"\n",
        "  stop_words = set(stopwords.words('english'))\n",
        "\n",
        "  word_tokens = word_tokenize(column)\n",
        "  filtered_sentence = [w for w in word_tokens if not w.lower() in stop_words]\n",
        "  final_sentence = [w for w in filtered_sentence if w.isalpha()]\n",
        "  return  final_sentence "
      ],
      "metadata": {
        "id": "1UBu6Ttq7eM0"
      },
      "execution_count": null,
      "outputs": []
    },
    {
      "cell_type": "code",
      "source": [
        "# Function call for tokenization \n",
        "df_message['tokenized'] = df_message.apply(lambda x: tokenize(x['Commit message']), axis=1)\n",
        "df_message[['tokenized']].head()"
      ],
      "metadata": {
        "colab": {
          "base_uri": "https://localhost:8080/",
          "height": 206
        },
        "id": "fIH2n5OEqqXw",
        "outputId": "f5652c77-3ec9-4180-ccd1-8138f2f6699b"
      },
      "execution_count": null,
      "outputs": [
        {
          "output_type": "execute_result",
          "data": {
            "text/plain": [
              "                                           tokenized\n",
              "0                                  [extract, method]\n",
              "1  [minor, tweaks, following, review, extraction,...\n",
              "2  [extract, stuff, method, git, depot, paths, ch...\n",
              "3                 [extract, methods, doiserviceimpl]\n",
              "4  [refactoring, getmenuspace, navigation, extrac..."
            ],
            "text/html": [
              "\n",
              "  <div id=\"df-97294d29-b3c7-4da6-9a4e-025f757d2a98\">\n",
              "    <div class=\"colab-df-container\">\n",
              "      <div>\n",
              "<style scoped>\n",
              "    .dataframe tbody tr th:only-of-type {\n",
              "        vertical-align: middle;\n",
              "    }\n",
              "\n",
              "    .dataframe tbody tr th {\n",
              "        vertical-align: top;\n",
              "    }\n",
              "\n",
              "    .dataframe thead th {\n",
              "        text-align: right;\n",
              "    }\n",
              "</style>\n",
              "<table border=\"1\" class=\"dataframe\">\n",
              "  <thead>\n",
              "    <tr style=\"text-align: right;\">\n",
              "      <th></th>\n",
              "      <th>tokenized</th>\n",
              "    </tr>\n",
              "  </thead>\n",
              "  <tbody>\n",
              "    <tr>\n",
              "      <th>0</th>\n",
              "      <td>[extract, method]</td>\n",
              "    </tr>\n",
              "    <tr>\n",
              "      <th>1</th>\n",
              "      <td>[minor, tweaks, following, review, extraction,...</td>\n",
              "    </tr>\n",
              "    <tr>\n",
              "      <th>2</th>\n",
              "      <td>[extract, stuff, method, git, depot, paths, ch...</td>\n",
              "    </tr>\n",
              "    <tr>\n",
              "      <th>3</th>\n",
              "      <td>[extract, methods, doiserviceimpl]</td>\n",
              "    </tr>\n",
              "    <tr>\n",
              "      <th>4</th>\n",
              "      <td>[refactoring, getmenuspace, navigation, extrac...</td>\n",
              "    </tr>\n",
              "  </tbody>\n",
              "</table>\n",
              "</div>\n",
              "      <button class=\"colab-df-convert\" onclick=\"convertToInteractive('df-97294d29-b3c7-4da6-9a4e-025f757d2a98')\"\n",
              "              title=\"Convert this dataframe to an interactive table.\"\n",
              "              style=\"display:none;\">\n",
              "        \n",
              "  <svg xmlns=\"http://www.w3.org/2000/svg\" height=\"24px\"viewBox=\"0 0 24 24\"\n",
              "       width=\"24px\">\n",
              "    <path d=\"M0 0h24v24H0V0z\" fill=\"none\"/>\n",
              "    <path d=\"M18.56 5.44l.94 2.06.94-2.06 2.06-.94-2.06-.94-.94-2.06-.94 2.06-2.06.94zm-11 1L8.5 8.5l.94-2.06 2.06-.94-2.06-.94L8.5 2.5l-.94 2.06-2.06.94zm10 10l.94 2.06.94-2.06 2.06-.94-2.06-.94-.94-2.06-.94 2.06-2.06.94z\"/><path d=\"M17.41 7.96l-1.37-1.37c-.4-.4-.92-.59-1.43-.59-.52 0-1.04.2-1.43.59L10.3 9.45l-7.72 7.72c-.78.78-.78 2.05 0 2.83L4 21.41c.39.39.9.59 1.41.59.51 0 1.02-.2 1.41-.59l7.78-7.78 2.81-2.81c.8-.78.8-2.07 0-2.86zM5.41 20L4 18.59l7.72-7.72 1.47 1.35L5.41 20z\"/>\n",
              "  </svg>\n",
              "      </button>\n",
              "      \n",
              "  <style>\n",
              "    .colab-df-container {\n",
              "      display:flex;\n",
              "      flex-wrap:wrap;\n",
              "      gap: 12px;\n",
              "    }\n",
              "\n",
              "    .colab-df-convert {\n",
              "      background-color: #E8F0FE;\n",
              "      border: none;\n",
              "      border-radius: 50%;\n",
              "      cursor: pointer;\n",
              "      display: none;\n",
              "      fill: #1967D2;\n",
              "      height: 32px;\n",
              "      padding: 0 0 0 0;\n",
              "      width: 32px;\n",
              "    }\n",
              "\n",
              "    .colab-df-convert:hover {\n",
              "      background-color: #E2EBFA;\n",
              "      box-shadow: 0px 1px 2px rgba(60, 64, 67, 0.3), 0px 1px 3px 1px rgba(60, 64, 67, 0.15);\n",
              "      fill: #174EA6;\n",
              "    }\n",
              "\n",
              "    [theme=dark] .colab-df-convert {\n",
              "      background-color: #3B4455;\n",
              "      fill: #D2E3FC;\n",
              "    }\n",
              "\n",
              "    [theme=dark] .colab-df-convert:hover {\n",
              "      background-color: #434B5C;\n",
              "      box-shadow: 0px 1px 3px 1px rgba(0, 0, 0, 0.15);\n",
              "      filter: drop-shadow(0px 1px 2px rgba(0, 0, 0, 0.3));\n",
              "      fill: #FFFFFF;\n",
              "    }\n",
              "  </style>\n",
              "\n",
              "      <script>\n",
              "        const buttonEl =\n",
              "          document.querySelector('#df-97294d29-b3c7-4da6-9a4e-025f757d2a98 button.colab-df-convert');\n",
              "        buttonEl.style.display =\n",
              "          google.colab.kernel.accessAllowed ? 'block' : 'none';\n",
              "\n",
              "        async function convertToInteractive(key) {\n",
              "          const element = document.querySelector('#df-97294d29-b3c7-4da6-9a4e-025f757d2a98');\n",
              "          const dataTable =\n",
              "            await google.colab.kernel.invokeFunction('convertToInteractive',\n",
              "                                                     [key], {});\n",
              "          if (!dataTable) return;\n",
              "\n",
              "          const docLinkHtml = 'Like what you see? Visit the ' +\n",
              "            '<a target=\"_blank\" href=https://colab.research.google.com/notebooks/data_table.ipynb>data table notebook</a>'\n",
              "            + ' to learn more about interactive tables.';\n",
              "          element.innerHTML = '';\n",
              "          dataTable['output_type'] = 'display_data';\n",
              "          await google.colab.output.renderOutput(dataTable, element);\n",
              "          const docLink = document.createElement('div');\n",
              "          docLink.innerHTML = docLinkHtml;\n",
              "          element.appendChild(docLink);\n",
              "        }\n",
              "      </script>\n",
              "    </div>\n",
              "  </div>\n",
              "  "
            ]
          },
          "metadata": {},
          "execution_count": 10
        }
      ]
    },
    {
      "cell_type": "markdown",
      "source": [
        "Tokenized Example"
      ],
      "metadata": {
        "id": "nv8JGAYUZOHZ"
      }
    },
    {
      "cell_type": "code",
      "source": [
        "df_message['tokenized'].iloc[9]"
      ],
      "metadata": {
        "id": "2Up5oHS2nMRF",
        "colab": {
          "base_uri": "https://localhost:8080/"
        },
        "outputId": "030ed409-59aa-4984-c6f5-7936f7594b89"
      },
      "execution_count": null,
      "outputs": [
        {
          "output_type": "execute_result",
          "data": {
            "text/plain": [
              "['extract',\n",
              " 'setup',\n",
              " 'default',\n",
              " 'httpparams',\n",
              " 'public',\n",
              " 'static',\n",
              " 'methodgit',\n",
              " 'svn',\n",
              " 'id',\n",
              " 'https']"
            ]
          },
          "metadata": {},
          "execution_count": 11
        }
      ]
    },
    {
      "cell_type": "markdown",
      "source": [
        "Perform lemmatization on the tokenized data"
      ],
      "metadata": {
        "id": "fLH062GsZTen"
      }
    },
    {
      "cell_type": "code",
      "source": [
        "# Function Definition for Lemmatization of words\n",
        "def lemmatize(row):\n",
        "  \"\"\"\n",
        "    Function Definition to lemmatize each word in the specific record.\n",
        "\n",
        "    @param row: The record to be lemmatized.\n",
        "    @type row: list\n",
        "\n",
        "    @return: List of lemmatized tokens\n",
        "  \"\"\"\n",
        "  lemmatizer = WordNetLemmatizer()\n",
        "  final_sentence = [lemmatizer.lemmatize(w) for w in row]\n",
        "  return final_sentence"
      ],
      "metadata": {
        "id": "jRryJxJo_PDj"
      },
      "execution_count": null,
      "outputs": []
    },
    {
      "cell_type": "code",
      "source": [
        "# Function Call for lemmatization process\n",
        "df_message['Lemmatized'] = df_message.apply(lambda x: lemmatize(x['tokenized']), axis=1)\n",
        "df_message[['Lemmatized']].head()"
      ],
      "metadata": {
        "id": "fo-Um1f2AwG9",
        "colab": {
          "base_uri": "https://localhost:8080/",
          "height": 206
        },
        "outputId": "a0d224d6-f05c-4115-c349-61a8a47e0909"
      },
      "execution_count": null,
      "outputs": [
        {
          "output_type": "execute_result",
          "data": {
            "text/plain": [
              "                                          Lemmatized\n",
              "0                                  [extract, method]\n",
              "1  [minor, tweak, following, review, extraction, ...\n",
              "2  [extract, stuff, method, git, depot, path, cha...\n",
              "3                  [extract, method, doiserviceimpl]\n",
              "4  [refactoring, getmenuspace, navigation, extrac..."
            ],
            "text/html": [
              "\n",
              "  <div id=\"df-9380bfad-aede-404b-a539-cc2fc214d618\">\n",
              "    <div class=\"colab-df-container\">\n",
              "      <div>\n",
              "<style scoped>\n",
              "    .dataframe tbody tr th:only-of-type {\n",
              "        vertical-align: middle;\n",
              "    }\n",
              "\n",
              "    .dataframe tbody tr th {\n",
              "        vertical-align: top;\n",
              "    }\n",
              "\n",
              "    .dataframe thead th {\n",
              "        text-align: right;\n",
              "    }\n",
              "</style>\n",
              "<table border=\"1\" class=\"dataframe\">\n",
              "  <thead>\n",
              "    <tr style=\"text-align: right;\">\n",
              "      <th></th>\n",
              "      <th>Lemmatized</th>\n",
              "    </tr>\n",
              "  </thead>\n",
              "  <tbody>\n",
              "    <tr>\n",
              "      <th>0</th>\n",
              "      <td>[extract, method]</td>\n",
              "    </tr>\n",
              "    <tr>\n",
              "      <th>1</th>\n",
              "      <td>[minor, tweak, following, review, extraction, ...</td>\n",
              "    </tr>\n",
              "    <tr>\n",
              "      <th>2</th>\n",
              "      <td>[extract, stuff, method, git, depot, path, cha...</td>\n",
              "    </tr>\n",
              "    <tr>\n",
              "      <th>3</th>\n",
              "      <td>[extract, method, doiserviceimpl]</td>\n",
              "    </tr>\n",
              "    <tr>\n",
              "      <th>4</th>\n",
              "      <td>[refactoring, getmenuspace, navigation, extrac...</td>\n",
              "    </tr>\n",
              "  </tbody>\n",
              "</table>\n",
              "</div>\n",
              "      <button class=\"colab-df-convert\" onclick=\"convertToInteractive('df-9380bfad-aede-404b-a539-cc2fc214d618')\"\n",
              "              title=\"Convert this dataframe to an interactive table.\"\n",
              "              style=\"display:none;\">\n",
              "        \n",
              "  <svg xmlns=\"http://www.w3.org/2000/svg\" height=\"24px\"viewBox=\"0 0 24 24\"\n",
              "       width=\"24px\">\n",
              "    <path d=\"M0 0h24v24H0V0z\" fill=\"none\"/>\n",
              "    <path d=\"M18.56 5.44l.94 2.06.94-2.06 2.06-.94-2.06-.94-.94-2.06-.94 2.06-2.06.94zm-11 1L8.5 8.5l.94-2.06 2.06-.94-2.06-.94L8.5 2.5l-.94 2.06-2.06.94zm10 10l.94 2.06.94-2.06 2.06-.94-2.06-.94-.94-2.06-.94 2.06-2.06.94z\"/><path d=\"M17.41 7.96l-1.37-1.37c-.4-.4-.92-.59-1.43-.59-.52 0-1.04.2-1.43.59L10.3 9.45l-7.72 7.72c-.78.78-.78 2.05 0 2.83L4 21.41c.39.39.9.59 1.41.59.51 0 1.02-.2 1.41-.59l7.78-7.78 2.81-2.81c.8-.78.8-2.07 0-2.86zM5.41 20L4 18.59l7.72-7.72 1.47 1.35L5.41 20z\"/>\n",
              "  </svg>\n",
              "      </button>\n",
              "      \n",
              "  <style>\n",
              "    .colab-df-container {\n",
              "      display:flex;\n",
              "      flex-wrap:wrap;\n",
              "      gap: 12px;\n",
              "    }\n",
              "\n",
              "    .colab-df-convert {\n",
              "      background-color: #E8F0FE;\n",
              "      border: none;\n",
              "      border-radius: 50%;\n",
              "      cursor: pointer;\n",
              "      display: none;\n",
              "      fill: #1967D2;\n",
              "      height: 32px;\n",
              "      padding: 0 0 0 0;\n",
              "      width: 32px;\n",
              "    }\n",
              "\n",
              "    .colab-df-convert:hover {\n",
              "      background-color: #E2EBFA;\n",
              "      box-shadow: 0px 1px 2px rgba(60, 64, 67, 0.3), 0px 1px 3px 1px rgba(60, 64, 67, 0.15);\n",
              "      fill: #174EA6;\n",
              "    }\n",
              "\n",
              "    [theme=dark] .colab-df-convert {\n",
              "      background-color: #3B4455;\n",
              "      fill: #D2E3FC;\n",
              "    }\n",
              "\n",
              "    [theme=dark] .colab-df-convert:hover {\n",
              "      background-color: #434B5C;\n",
              "      box-shadow: 0px 1px 3px 1px rgba(0, 0, 0, 0.15);\n",
              "      filter: drop-shadow(0px 1px 2px rgba(0, 0, 0, 0.3));\n",
              "      fill: #FFFFFF;\n",
              "    }\n",
              "  </style>\n",
              "\n",
              "      <script>\n",
              "        const buttonEl =\n",
              "          document.querySelector('#df-9380bfad-aede-404b-a539-cc2fc214d618 button.colab-df-convert');\n",
              "        buttonEl.style.display =\n",
              "          google.colab.kernel.accessAllowed ? 'block' : 'none';\n",
              "\n",
              "        async function convertToInteractive(key) {\n",
              "          const element = document.querySelector('#df-9380bfad-aede-404b-a539-cc2fc214d618');\n",
              "          const dataTable =\n",
              "            await google.colab.kernel.invokeFunction('convertToInteractive',\n",
              "                                                     [key], {});\n",
              "          if (!dataTable) return;\n",
              "\n",
              "          const docLinkHtml = 'Like what you see? Visit the ' +\n",
              "            '<a target=\"_blank\" href=https://colab.research.google.com/notebooks/data_table.ipynb>data table notebook</a>'\n",
              "            + ' to learn more about interactive tables.';\n",
              "          element.innerHTML = '';\n",
              "          dataTable['output_type'] = 'display_data';\n",
              "          await google.colab.output.renderOutput(dataTable, element);\n",
              "          const docLink = document.createElement('div');\n",
              "          docLink.innerHTML = docLinkHtml;\n",
              "          element.appendChild(docLink);\n",
              "        }\n",
              "      </script>\n",
              "    </div>\n",
              "  </div>\n",
              "  "
            ]
          },
          "metadata": {},
          "execution_count": 13
        }
      ]
    },
    {
      "cell_type": "code",
      "source": [
        "df_message.info()"
      ],
      "metadata": {
        "colab": {
          "base_uri": "https://localhost:8080/"
        },
        "id": "12QhOK_xCzPD",
        "outputId": "5ba3be10-3306-4f67-bb3c-e39aa7927249"
      },
      "execution_count": null,
      "outputs": [
        {
          "output_type": "stream",
          "name": "stdout",
          "text": [
            "<class 'pandas.core.frame.DataFrame'>\n",
            "RangeIndex: 5004 entries, 0 to 5003\n",
            "Data columns (total 4 columns):\n",
            " #   Column          Non-Null Count  Dtype \n",
            "---  ------          --------------  ----- \n",
            " 0   Commit message  5004 non-null   object\n",
            " 1   Class           5004 non-null   object\n",
            " 2   tokenized       5004 non-null   object\n",
            " 3   Lemmatized      5004 non-null   object\n",
            "dtypes: object(4)\n",
            "memory usage: 156.5+ KB\n"
          ]
        }
      ]
    },
    {
      "cell_type": "code",
      "source": [
        "df_message[\"Concate\"] = [ \" \".join(w) for w in df_message[\"Lemmatized\"]]\n",
        "df_message[\"Concate\"]"
      ],
      "metadata": {
        "colab": {
          "base_uri": "https://localhost:8080/"
        },
        "id": "XuSthTBuLxM0",
        "outputId": "1f9629f4-d332-470a-e5d3-dd55751277d9"
      },
      "execution_count": null,
      "outputs": [
        {
          "output_type": "execute_result",
          "data": {
            "text/plain": [
              "0                                          extract method\n",
              "1       minor tweak following review extraction method...\n",
              "2              extract stuff method git depot path change\n",
              "3                           extract method doiserviceimpl\n",
              "4       refactoring getmenuspace navigation extract is...\n",
              "                              ...                        \n",
              "4999           rename getprotocol getmechanism testclient\n",
              "5000          rename mapping method signed luke hutchison\n",
              "5001    renaming refactor deserialization related code...\n",
              "5002    renamed usage description match name used comm...\n",
              "5003    renamed isoccupied point point hasroaduseron p...\n",
              "Name: Concate, Length: 5004, dtype: object"
            ]
          },
          "metadata": {},
          "execution_count": 16
        }
      ]
    },
    {
      "cell_type": "code",
      "source": [
        "df_message['Concate'].iloc[9]"
      ],
      "metadata": {
        "colab": {
          "base_uri": "https://localhost:8080/",
          "height": 35
        },
        "id": "2tQ6sy8aM5Py",
        "outputId": "69c1f5fc-af80-4850-c4be-1d5148bfdf0f"
      },
      "execution_count": null,
      "outputs": [
        {
          "output_type": "execute_result",
          "data": {
            "text/plain": [
              "'extract setup default httpparams public static methodgit svn id http'"
            ],
            "application/vnd.google.colaboratory.intrinsic+json": {
              "type": "string"
            }
          },
          "metadata": {},
          "execution_count": 17
        }
      ]
    },
    {
      "cell_type": "markdown",
      "source": [
        "Perform tf-idf vectorization on the cleaned, tokenized and lemmitized input after splitting the data into test and train"
      ],
      "metadata": {
        "id": "m5RHzSF3ZqMQ"
      }
    },
    {
      "cell_type": "code",
      "source": [
        "# Splitting the input and the output features \n",
        "X = df_message['Concate']\n",
        "y = df_message['Class']\n",
        "X_train, X_test, y_train, y_test = train_test_split(X,y, test_size=0.2)\n",
        "\n",
        "# Doing the data set into 80% of training data and 20% testing data and applying tf-idf vectorizer.\n",
        "pre_processor = TfidfVectorizer(ngram_range=(2,2), lowercase=False)\n",
        "\n",
        "xx = pre_processor.fit_transform(X_train)\n",
        "xy = pre_processor.transform(X_test)"
      ],
      "metadata": {
        "id": "D5pAu8v1FN_v"
      },
      "execution_count": null,
      "outputs": []
    },
    {
      "cell_type": "markdown",
      "source": [
        "# Model Training"
      ],
      "metadata": {
        "id": "z9yp6mjpZ6bT"
      }
    },
    {
      "cell_type": "markdown",
      "source": [
        "Random Forest"
      ],
      "metadata": {
        "id": "4BGm7PrrOwvb"
      }
    },
    {
      "cell_type": "code",
      "source": [
        "# Classification done using Random Forest\n",
        "clf = RandomForestClassifier(n_estimators=8, max_depth=32, min_samples_split=1, n_jobs=-1)\n",
        "clf.fit(xx, y_train)\n",
        "y_pred = clf.predict(xy)\n",
        "#print(y_pred)\n",
        "print(classification_report(y_test, y_pred))\n"
      ],
      "metadata": {
        "colab": {
          "base_uri": "https://localhost:8080/"
        },
        "id": "l27epLOKOtue",
        "outputId": "1d8d9552-f8e4-4474-8afb-1065a646a2c5"
      },
      "execution_count": null,
      "outputs": [
        {
          "output_type": "stream",
          "name": "stdout",
          "text": [
            "              precision    recall  f1-score   support\n",
            "\n",
            "     extract       0.63      0.12      0.20       181\n",
            "      inline       0.36      0.02      0.04       171\n",
            "        move       0.19      0.93      0.31       166\n",
            "     pull up       0.28      0.10      0.15       146\n",
            "   push down       0.16      0.04      0.07       163\n",
            "      rename       0.56      0.14      0.22       174\n",
            "\n",
            "    accuracy                           0.23      1001\n",
            "   macro avg       0.36      0.23      0.17      1001\n",
            "weighted avg       0.37      0.23      0.17      1001\n",
            "\n"
          ]
        }
      ]
    },
    {
      "cell_type": "markdown",
      "source": [
        "Gradient Boosting Classifier"
      ],
      "metadata": {
        "id": "yMIsOCqcUTP7"
      }
    },
    {
      "cell_type": "code",
      "source": [
        "# Classification done using Gradient Boosting\n",
        "gbc = GradientBoostingClassifier(max_leaf_nodes=20, min_samples_leaf=10, learning_rate=0.2)\n",
        "ovr = OneVsRestClassifier(gbc)\n",
        "ovr.fit(xx, y_train)\n",
        "y_pred = ovr.predict(xy)\n",
        "print(classification_report(y_test, y_pred))"
      ],
      "metadata": {
        "colab": {
          "base_uri": "https://localhost:8080/"
        },
        "id": "hmXM792rUKaU",
        "outputId": "38b24a44-c6cb-4864-e0cf-df79c94989e3"
      },
      "execution_count": null,
      "outputs": [
        {
          "output_type": "stream",
          "name": "stdout",
          "text": [
            "              precision    recall  f1-score   support\n",
            "\n",
            "     extract       0.52      0.23      0.32       181\n",
            "      inline       0.18      0.04      0.07       171\n",
            "        move       0.40      0.19      0.26       166\n",
            "     pull up       0.39      0.18      0.25       146\n",
            "   push down       0.17      0.73      0.28       163\n",
            "      rename       0.63      0.17      0.26       174\n",
            "\n",
            "    accuracy                           0.25      1001\n",
            "   macro avg       0.38      0.26      0.24      1001\n",
            "weighted avg       0.38      0.25      0.24      1001\n",
            "\n"
          ]
        }
      ]
    },
    {
      "cell_type": "markdown",
      "source": [
        "Logistic Regression"
      ],
      "metadata": {
        "id": "wiWOBfv-W8a1"
      }
    },
    {
      "cell_type": "code",
      "source": [
        "# Classification done using Logistic Regression\n",
        "lr = LogisticRegression(tol=1e-7, penalty='l2', solver='lbfgs', n_jobs=-1)\n",
        "lr.fit(xx, y_train)\n",
        "y_pred_lr = lr.predict(xy)\n",
        "print(classification_report(y_test, y_pred_lr))\n",
        "\n",
        "df_y_pred_lr = pd.DataFrame(y_pred_lr, columns=[\"y_pred\"])\n",
        "#df_y_pred_lr"
      ],
      "metadata": {
        "colab": {
          "base_uri": "https://localhost:8080/"
        },
        "id": "xn5N1-V3W-1g",
        "outputId": "9cf4a86f-266b-4b1e-9af6-016265723ff0"
      },
      "execution_count": null,
      "outputs": [
        {
          "output_type": "stream",
          "name": "stdout",
          "text": [
            "              precision    recall  f1-score   support\n",
            "\n",
            "     extract       0.54      0.38      0.44       181\n",
            "      inline       0.36      0.23      0.28       171\n",
            "        move       0.24      0.63      0.35       166\n",
            "     pull up       0.30      0.31      0.31       146\n",
            "   push down       0.35      0.20      0.26       163\n",
            "      rename       0.68      0.37      0.48       174\n",
            "\n",
            "    accuracy                           0.35      1001\n",
            "   macro avg       0.41      0.35      0.35      1001\n",
            "weighted avg       0.42      0.35      0.36      1001\n",
            "\n"
          ]
        }
      ]
    },
    {
      "cell_type": "markdown",
      "source": [
        "Support Vector Classification"
      ],
      "metadata": {
        "id": "HLhZhJWWZfg7"
      }
    },
    {
      "cell_type": "code",
      "source": [
        "# Classification done using Support Vector Classification\n",
        "svc = SVC(max_iter=1)\n",
        "ovr = OneVsRestClassifier(svc)\n",
        "ovr.fit(xx, y_train)\n",
        "y_pred = ovr.predict(xy)\n",
        "print(classification_report(y_test, y_pred))"
      ],
      "metadata": {
        "colab": {
          "base_uri": "https://localhost:8080/"
        },
        "id": "1ofpDmUgY9yD",
        "outputId": "86428c7f-6984-44c6-9cd4-74686e164151"
      },
      "execution_count": null,
      "outputs": [
        {
          "output_type": "stream",
          "name": "stdout",
          "text": [
            "              precision    recall  f1-score   support\n",
            "\n",
            "     extract       0.18      0.99      0.31       181\n",
            "      inline       0.00      0.00      0.00       171\n",
            "        move       0.00      0.00      0.00       166\n",
            "     pull up       0.00      0.00      0.00       146\n",
            "   push down       0.00      0.00      0.00       163\n",
            "      rename       0.50      0.01      0.01       174\n",
            "\n",
            "    accuracy                           0.18      1001\n",
            "   macro avg       0.11      0.17      0.05      1001\n",
            "weighted avg       0.12      0.18      0.06      1001\n",
            "\n"
          ]
        },
        {
          "output_type": "stream",
          "name": "stderr",
          "text": [
            "/usr/local/lib/python3.8/dist-packages/sklearn/svm/_base.py:299: ConvergenceWarning: Solver terminated early (max_iter=1).  Consider pre-processing your data with StandardScaler or MinMaxScaler.\n",
            "  warnings.warn(\n",
            "/usr/local/lib/python3.8/dist-packages/sklearn/svm/_base.py:299: ConvergenceWarning: Solver terminated early (max_iter=1).  Consider pre-processing your data with StandardScaler or MinMaxScaler.\n",
            "  warnings.warn(\n",
            "/usr/local/lib/python3.8/dist-packages/sklearn/svm/_base.py:299: ConvergenceWarning: Solver terminated early (max_iter=1).  Consider pre-processing your data with StandardScaler or MinMaxScaler.\n",
            "  warnings.warn(\n",
            "/usr/local/lib/python3.8/dist-packages/sklearn/svm/_base.py:299: ConvergenceWarning: Solver terminated early (max_iter=1).  Consider pre-processing your data with StandardScaler or MinMaxScaler.\n",
            "  warnings.warn(\n",
            "/usr/local/lib/python3.8/dist-packages/sklearn/svm/_base.py:299: ConvergenceWarning: Solver terminated early (max_iter=1).  Consider pre-processing your data with StandardScaler or MinMaxScaler.\n",
            "  warnings.warn(\n",
            "/usr/local/lib/python3.8/dist-packages/sklearn/svm/_base.py:299: ConvergenceWarning: Solver terminated early (max_iter=1).  Consider pre-processing your data with StandardScaler or MinMaxScaler.\n",
            "  warnings.warn(\n",
            "/usr/local/lib/python3.8/dist-packages/sklearn/metrics/_classification.py:1344: UndefinedMetricWarning: Precision and F-score are ill-defined and being set to 0.0 in labels with no predicted samples. Use `zero_division` parameter to control this behavior.\n",
            "  _warn_prf(average, modifier, msg_start, len(result))\n",
            "/usr/local/lib/python3.8/dist-packages/sklearn/metrics/_classification.py:1344: UndefinedMetricWarning: Precision and F-score are ill-defined and being set to 0.0 in labels with no predicted samples. Use `zero_division` parameter to control this behavior.\n",
            "  _warn_prf(average, modifier, msg_start, len(result))\n",
            "/usr/local/lib/python3.8/dist-packages/sklearn/metrics/_classification.py:1344: UndefinedMetricWarning: Precision and F-score are ill-defined and being set to 0.0 in labels with no predicted samples. Use `zero_division` parameter to control this behavior.\n",
            "  _warn_prf(average, modifier, msg_start, len(result))\n"
          ]
        }
      ]
    },
    {
      "cell_type": "markdown",
      "source": [
        "Naive Bayes"
      ],
      "metadata": {
        "id": "1x4N3EWScGhn"
      }
    },
    {
      "cell_type": "code",
      "source": [
        "# Classification done using Naive Bayes\n",
        "from sklearn.naive_bayes import GaussianNB\n",
        "gnb = GaussianNB().fit(xx.toarray(), y_train)\n",
        "gnb_predictions = gnb.predict(xy.toarray())\n",
        "df_y_pred_gnb = pd.DataFrame(gnb_predictions, columns=[\"y_pred\"])  \n",
        "print(classification_report(y_test, gnb_predictions))\n",
        "\n",
        "accuracy = gnb.score(xy.toarray(), y_test)"
      ],
      "metadata": {
        "colab": {
          "base_uri": "https://localhost:8080/"
        },
        "id": "R6JJc6S_bdJ-",
        "outputId": "89b41f42-da42-437a-8026-55c6cabeb09e"
      },
      "execution_count": null,
      "outputs": [
        {
          "output_type": "stream",
          "name": "stdout",
          "text": [
            "              precision    recall  f1-score   support\n",
            "\n",
            "     extract       0.38      0.27      0.31       181\n",
            "      inline       0.30      0.18      0.22       171\n",
            "        move       0.41      0.35      0.38       166\n",
            "     pull up       0.22      0.20      0.21       146\n",
            "   push down       0.37      0.24      0.29       163\n",
            "      rename       0.34      0.76      0.47       174\n",
            "\n",
            "    accuracy                           0.34      1001\n",
            "   macro avg       0.34      0.33      0.31      1001\n",
            "weighted avg       0.34      0.34      0.32      1001\n",
            "\n"
          ]
        }
      ]
    },
    {
      "cell_type": "markdown",
      "source": [
        "# K-Fold Cross Validation "
      ],
      "metadata": {
        "id": "pn4GP2uyakOz"
      }
    },
    {
      "cell_type": "markdown",
      "source": [
        "Cross Validation is preformed with 10 folds and the performance is checked."
      ],
      "metadata": {
        "id": "M9xsUTlza0Q5"
      }
    },
    {
      "cell_type": "code",
      "source": [
        "# Function Definition for cross validation\n",
        "def cross_validation(model,_X,_y,_cv=5):\n",
        "  \"\"\"\n",
        "    Function Definition to perform k-fold cross validation and then testing with the model.\n",
        "\n",
        "    @param model: The classification model used.\n",
        "    \n",
        "    @param _X: Input features for testing\n",
        "    @type _X: DataFrame\n",
        "\n",
        "    @param _y: Output features for testing\n",
        "    @type _y: DataFrame\n",
        "    \n",
        "    @param cv: Number of folds\n",
        "    @type: int\n",
        "\n",
        "    @return: Dictionary of values\n",
        "  \"\"\"\n",
        "  _scoring=['accuracy','precision','recall','f1']\n",
        "  results = cross_validate(estimator=model,X=_X,y=_y,cv=_cv,scoring=_scoring,return_train_score=True)\n",
        "  return results"
      ],
      "metadata": {
        "id": "p5BAwoKkadBT"
      },
      "execution_count": 3,
      "outputs": []
    },
    {
      "cell_type": "code",
      "source": [
        "# Result of Random Forest Classifier with Cross Validation\n",
        "cv_results = cross_validate(clf, xx,y_train, cv=10, scoring = 'accuracy')\n",
        "print(cv_results['test_score'].mean())"
      ],
      "metadata": {
        "colab": {
          "base_uri": "https://localhost:8080/"
        },
        "id": "e6jFNzP7rGPg",
        "outputId": "8a9c95c5-18be-4aa8-c7f6-3b219e3285ed"
      },
      "execution_count": null,
      "outputs": [
        {
          "output_type": "stream",
          "name": "stdout",
          "text": [
            "0.22233603491271822\n"
          ]
        }
      ]
    },
    {
      "cell_type": "code",
      "source": [
        "# Result of Logistic Regression Classifier with Cross Validation\n",
        "cv_results = cross_validate(lr, xx,y_train, cv=10, scoring = 'accuracy')\n",
        "print(cv_results['test_score'].mean())"
      ],
      "metadata": {
        "id": "WMbfVgWnHkDd",
        "colab": {
          "base_uri": "https://localhost:8080/"
        },
        "outputId": "cbabb8dd-c637-4ae4-8db3-ad67128869fa"
      },
      "execution_count": null,
      "outputs": [
        {
          "output_type": "stream",
          "name": "stdout",
          "text": [
            "0.34273067331670826\n"
          ]
        }
      ]
    }
  ]
}
