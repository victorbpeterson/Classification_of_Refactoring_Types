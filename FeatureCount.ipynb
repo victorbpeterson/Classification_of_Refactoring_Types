{
  "nbformat": 4,
  "nbformat_minor": 0,
  "metadata": {
    "colab": {
      "provenance": []
    },
    "kernelspec": {
      "name": "python3",
      "display_name": "Python 3"
    },
    "language_info": {
      "name": "python"
    }
  },
  "cells": [
    {
      "cell_type": "code",
      "execution_count": null,
      "metadata": {
        "id": "xg7BYlbNDKEi"
      },
      "outputs": [],
      "source": [
        "# Importing the required packages\n",
        "import collections\n",
        "from collections import Counter  \n",
        "import pandas as pd  "
      ]
    },
    {
      "cell_type": "markdown",
      "source": [
        "Load the data"
      ],
      "metadata": {
        "id": "FP-LZoFBny_X"
      }
    },
    {
      "cell_type": "code",
      "source": [
        "# Test data\n",
        "df_X_test = pd.read_csv(\"/content/X_test.csv\")\n",
        "df_X_test = df_X_test[\"Concate\"].str.split()\n",
        "\n",
        "# Expert classified data\n",
        "df_y_test = pd.read_csv(\"/content/y_test.csv\")\n",
        "df_y_test = df_y_test[\"Class\"]\n",
        "\n",
        "# Random Forest predicted\n",
        "df_y_pred_rf = pd.read_csv(\"/content/y_pred_rf.csv\")\n",
        "df_y_pred_rf = df_y_pred_rf[\"y_pred\"]\n",
        "\n",
        "# Logistic Regression predicted\n",
        "df_y_pred_lr = pd.read_csv(\"/content/y_pred_lr.csv\")\n",
        "df_y_pred_lr = df_y_pred_lr[\"y_pred\"]\n",
        "\n",
        "# Gradient Boost predicted\n",
        "df_y_pred_gb = pd.read_csv(\"/content/y_pred_gb.csv\")\n",
        "df_y_pred_gb = df_y_pred_gb[\"y_pred\"]\n",
        "\n",
        "out = [\"extract\", \"inline\",\"move\",\"pull up\",\"push down\", \"rename\"]"
      ],
      "metadata": {
        "id": "1ScUKB2qD1p7"
      },
      "execution_count": null,
      "outputs": []
    },
    {
      "cell_type": "code",
      "source": [
        "# Funtion Definition for calculating the frequency of each word's occurence\n",
        "def featureCount(y):\n",
        "  ''' \n",
        "  Function created to calculate the frequency of occurence of words.\n",
        "\n",
        "  @param y: Feature for which the frequency needs to be calculated.\n",
        "  @type y: DataFrame\n",
        "\n",
        "  @return: None\n",
        "  '''\n",
        "  count = []\n",
        "  for i in range(len(out)):\n",
        "    concat = []\n",
        "    for j in range(len(y)):\n",
        "      if(y.iloc[j] == out[i]):\n",
        "        concat = concat + df_X_test.iloc[j]\n",
        "    count.append(pd.DataFrame(Counter(concat).most_common(), columns=[out[i],\"Count\"]))\n",
        "\n",
        "  for u in count:\n",
        "    print(u)\n",
        "  "
      ],
      "metadata": {
        "id": "eWdNXp2SD2wT"
      },
      "execution_count": null,
      "outputs": []
    },
    {
      "cell_type": "markdown",
      "source": [
        "Expert classified data"
      ],
      "metadata": {
        "id": "wok2SbDgoZsv"
      }
    },
    {
      "cell_type": "code",
      "source": [
        "# Feature Count for output test dataframe\n",
        "featureCount(df_y_test)"
      ],
      "metadata": {
        "colab": {
          "base_uri": "https://localhost:8080/"
        },
        "id": "WHaURWDPokE1",
        "outputId": "883d3ead-7dc0-4789-937b-facc5a5dc41d"
      },
      "execution_count": null,
      "outputs": [
        {
          "output_type": "stream",
          "name": "stdout",
          "text": [
            "     extract  Count\n",
            "0      added     75\n",
            "1        add     52\n",
            "2     method     39\n",
            "3       http     27\n",
            "4         id     27\n",
            "...      ...    ...\n",
            "1212    hash      1\n",
            "1213   nrepl      1\n",
            "1214   input      1\n",
            "1215    area      1\n",
            "1216   enter      1\n",
            "\n",
            "[1217 rows x 2 columns]\n",
            "           inline  Count\n",
            "0           added     44\n",
            "1          method     42\n",
            "2            code     38\n",
            "3          change     37\n",
            "4           class     29\n",
            "...           ...    ...\n",
            "1569         date      1\n",
            "1570          jdk      1\n",
            "1571   sqlbasedao      1\n",
            "1572  preliminary      1\n",
            "1573          law      1\n",
            "\n",
            "[1574 rows x 2 columns]\n",
            "                move  Count\n",
            "0               line    102\n",
            "1                maj     94\n",
            "2              added     91\n",
            "3              moved     76\n",
            "4             method     72\n",
            "...              ...    ...\n",
            "1317            mock      1\n",
            "1318          device      1\n",
            "1319  mockconnection      1\n",
            "1320         belongs      1\n",
            "1321       miscutils      1\n",
            "\n",
            "[1322 rows x 2 columns]\n",
            "            pull up  Count\n",
            "0              http     41\n",
            "1             class     39\n",
            "2              test     36\n",
            "3             added     35\n",
            "4       refactoring     32\n",
            "..              ...    ...\n",
            "975            need      1\n",
            "976         tidying      1\n",
            "977            next      1\n",
            "978         rewrite      1\n",
            "979  simplification      1\n",
            "\n",
            "[980 rows x 2 columns]\n",
            "       push down  Count\n",
            "0          added     53\n",
            "1          class     39\n",
            "2           test     37\n",
            "3         change     25\n",
            "4            fix     24\n",
            "...          ...    ...\n",
            "1227      mocdtw      1\n",
            "1228  subsequent      1\n",
            "1229     wrapper      1\n",
            "1230         cli      1\n",
            "1231         trx      1\n",
            "\n",
            "[1232 rows x 2 columns]\n",
            "         rename  Count\n",
            "0       renamed    114\n",
            "1        rename     86\n",
            "2        method     56\n",
            "3         added     29\n",
            "4            id     22\n",
            "...         ...    ...\n",
            "1051  tokenizer      1\n",
            "1052    complex      1\n",
            "1053       math      1\n",
            "1054      ficed      1\n",
            "1055      order      1\n",
            "\n",
            "[1056 rows x 2 columns]\n"
          ]
        }
      ]
    },
    {
      "cell_type": "markdown",
      "source": [
        "Random Forest predicted"
      ],
      "metadata": {
        "id": "FPr7ZFdtorRc"
      }
    },
    {
      "cell_type": "code",
      "source": [
        "# Frequency of words for Random Forest predicted data\n",
        "featureCount(df_y_pred_rf)"
      ],
      "metadata": {
        "colab": {
          "base_uri": "https://localhost:8080/"
        },
        "id": "bpzjpJ2Vk1EK",
        "outputId": "e4240b50-4de2-4617-dfcd-3edb24adcf05"
      },
      "execution_count": null,
      "outputs": [
        {
          "output_type": "stream",
          "name": "stdout",
          "text": [
            "Empty DataFrame\n",
            "Columns: [extract, Count]\n",
            "Index: []\n",
            "Empty DataFrame\n",
            "Columns: [inline, Count]\n",
            "Index: []\n",
            "                       move  Count\n",
            "0                     added    308\n",
            "1                    method    241\n",
            "2                     class    187\n",
            "3                      test    166\n",
            "4                      http    163\n",
            "...                     ...    ...\n",
            "3982  exmltometadatahandler      1\n",
            "3983                    ext      1\n",
            "3984      exmltojsonhandler      1\n",
            "3985             exhaustive      1\n",
            "3986                  souts      1\n",
            "\n",
            "[3987 rows x 2 columns]\n",
            "         pull up  Count\n",
            "0        renamed     49\n",
            "1         rename     34\n",
            "2    refactoring     22\n",
            "3          added     19\n",
            "4         method     16\n",
            "..           ...    ...\n",
            "860         math      1\n",
            "861        ficed      1\n",
            "862        order      1\n",
            "863     operator      1\n",
            "864     argument      1\n",
            "\n",
            "[865 rows x 2 columns]\n",
            "Empty DataFrame\n",
            "Columns: [push down, Count]\n",
            "Index: []\n",
            "Empty DataFrame\n",
            "Columns: [rename, Count]\n",
            "Index: []\n"
          ]
        }
      ]
    },
    {
      "cell_type": "markdown",
      "source": [
        "Logistic Regression predicted\n"
      ],
      "metadata": {
        "id": "hJQlwAKQoden"
      }
    },
    {
      "cell_type": "code",
      "source": [
        "# Frequency of words for Logistic Regression predicted data\n",
        "featureCount(df_y_pred_lr)"
      ],
      "metadata": {
        "colab": {
          "base_uri": "https://localhost:8080/"
        },
        "id": "EzPmk7HNk7Vp",
        "outputId": "fc233671-debd-4a90-a259-7fe7c5023198"
      },
      "execution_count": null,
      "outputs": [
        {
          "output_type": "stream",
          "name": "stdout",
          "text": [
            "      extract  Count\n",
            "0       added     29\n",
            "1       class     24\n",
            "2      method     24\n",
            "3        http     20\n",
            "4       moved     19\n",
            "..        ...    ...\n",
            "943   complex      1\n",
            "944      math      1\n",
            "945     ficed      1\n",
            "946  operator      1\n",
            "947  argument      1\n",
            "\n",
            "[948 rows x 2 columns]\n",
            "           inline  Count\n",
            "0            line     52\n",
            "1             maj     47\n",
            "2           added     36\n",
            "3          method     34\n",
            "4          branch     26\n",
            "...           ...    ...\n",
            "1035   sqlbasedao      1\n",
            "1036  preliminary      1\n",
            "1037          law      1\n",
            "1038    processor      1\n",
            "1039       import      1\n",
            "\n",
            "[1040 rows x 2 columns]\n",
            "                move  Count\n",
            "0              added    107\n",
            "1             method     98\n",
            "2              class     75\n",
            "3               http     73\n",
            "4               test     70\n",
            "...              ...    ...\n",
            "2332           souts      1\n",
            "2333           depot      1\n",
            "2334  authentication      1\n",
            "2335            xsrf      1\n",
            "2336         tidying      1\n",
            "\n",
            "[2337 rows x 2 columns]\n",
            "                           pull up  Count\n",
            "0                            added    102\n",
            "1                           method     66\n",
            "2                             line     55\n",
            "3                            class     50\n",
            "4                              maj     47\n",
            "...                            ...    ...\n",
            "1437  getconfigurationserviceindio      1\n",
            "1438               getdefectsindio      1\n",
            "1439                getstreamindio      1\n",
            "1440                  matchesindio      1\n",
            "1441                       rewrite      1\n",
            "\n",
            "[1442 rows x 2 columns]\n",
            "    push down  Count\n",
            "0       added     37\n",
            "1      method     23\n",
            "2        test     23\n",
            "3        http     23\n",
            "4     renamed     16\n",
            "..        ...    ...\n",
            "887   addtile      1\n",
            "888    usable      1\n",
            "889     tweak      1\n",
            "890      edit      1\n",
            "891  bugfixes      1\n",
            "\n",
            "[892 rows x 2 columns]\n",
            "                            rename  Count\n",
            "0                            added     16\n",
            "1                             http     15\n",
            "2                            class     15\n",
            "3                             test     12\n",
            "4                            moved     12\n",
            "..                             ...    ...\n",
            "671                 repackagertest      1\n",
            "672                         inline      1\n",
            "673  finishandinjectsingularmethod      1\n",
            "674         generatesingularmethod      1\n",
            "675                       treenode      1\n",
            "\n",
            "[676 rows x 2 columns]\n"
          ]
        }
      ]
    },
    {
      "cell_type": "markdown",
      "source": [
        "Gradient Boost predicted"
      ],
      "metadata": {
        "id": "eo-BBHOTo4VV"
      }
    },
    {
      "cell_type": "code",
      "source": [
        "# Frequency of words for Gradient Boost predicted data\n",
        "featureCount(df_y_pred_gb)"
      ],
      "metadata": {
        "colab": {
          "base_uri": "https://localhost:8080/"
        },
        "id": "OzmW8c_uk7ne",
        "outputId": "c9507940-612e-44e2-d326-e713b25ba9d5"
      },
      "execution_count": null,
      "outputs": [
        {
          "output_type": "stream",
          "name": "stdout",
          "text": [
            "      extract  Count\n",
            "0       added     22\n",
            "1       class     20\n",
            "2      method     20\n",
            "3        http     12\n",
            "4        file     11\n",
            "..        ...    ...\n",
            "657      math      1\n",
            "658     ficed      1\n",
            "659     order      1\n",
            "660  operator      1\n",
            "661  argument      1\n",
            "\n",
            "[662 rows x 2 columns]\n",
            "           inline  Count\n",
            "0          method     19\n",
            "1            test     12\n",
            "2           class     11\n",
            "3          rename     10\n",
            "4             gwt      9\n",
            "..            ...    ...\n",
            "551        reduce      1\n",
            "552        number      1\n",
            "553  stringfilter      1\n",
            "554      abstract      1\n",
            "555    textfilter      1\n",
            "\n",
            "[556 rows x 2 columns]\n",
            "           move  Count\n",
            "0         added     16\n",
            "1         fixed     15\n",
            "2        method     14\n",
            "3          http     14\n",
            "4       renamed     13\n",
            "..          ...    ...\n",
            "630     belongs      1\n",
            "631        wcet      1\n",
            "632     utility      1\n",
            "633   miscutils      1\n",
            "634  generation      1\n",
            "\n",
            "[635 rows x 2 columns]\n",
            "            pull up  Count\n",
            "0               dvd     23\n",
            "1         placement     22\n",
            "2           episode     19\n",
            "3             class     17\n",
            "4             added     15\n",
            "..              ...    ...\n",
            "618    matchesindio      1\n",
            "619           major      1\n",
            "620         rewrite      1\n",
            "621  simplification      1\n",
            "622     duplication      1\n",
            "\n",
            "[623 rows x 2 columns]\n",
            "                  push down  Count\n",
            "0                     added    255\n",
            "1                    method    190\n",
            "2                     class    130\n",
            "3                      test    126\n",
            "4                      http    118\n",
            "...                     ...    ...\n",
            "3465  exmltometadatahandler      1\n",
            "3466                    ext      1\n",
            "3467      exmltojsonhandler      1\n",
            "3468             exhaustive      1\n",
            "3469                  souts      1\n",
            "\n",
            "[3470 rows x 2 columns]\n",
            "                      rename  Count\n",
            "0                      added     11\n",
            "1                       http      9\n",
            "2                      class      9\n",
            "3                refactoring      7\n",
            "4                        git      6\n",
            "..                       ...    ...\n",
            "321  abstracttemplatebuilder      1\n",
            "322                  extract      1\n",
            "323                 function      1\n",
            "324                 possible      1\n",
            "325                 treenode      1\n",
            "\n",
            "[326 rows x 2 columns]\n"
          ]
        }
      ]
    }
  ]
}